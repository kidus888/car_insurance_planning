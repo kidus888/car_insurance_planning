{
 "cells": [
  {
   "cell_type": "code",
   "execution_count": 1,
   "metadata": {},
   "outputs": [],
   "source": [
    "import sys\n",
    "import os\n",
    "sys.path.append('../scripts')"
   ]
  },
  {
   "cell_type": "code",
   "execution_count": 2,
   "metadata": {},
   "outputs": [],
   "source": [
    "from ab_testing import load_data, calculate_kpis, ab_testing_pipeline"
   ]
  },
  {
   "cell_type": "code",
   "execution_count": 3,
   "metadata": {},
   "outputs": [
    {
     "name": "stderr",
     "output_type": "stream",
     "text": [
      "/home/kali/Desktop/vs/car_insurance_planning/notebooks/../scripts/ab_testing.py:11: DtypeWarning: Columns (32,37) have mixed types. Specify dtype option on import or set low_memory=False.\n",
      "  data = pd.read_csv(filepath)\n"
     ]
    }
   ],
   "source": [
    "# Load the dataset\n",
    "data = load_data(\"../data/dataset.csv\")\n",
    "data = calculate_kpis(data)"
   ]
  },
  {
   "cell_type": "markdown",
   "metadata": {},
   "source": [
    "No risk differences across provinces"
   ]
  },
  {
   "cell_type": "code",
   "execution_count": 4,
   "metadata": {},
   "outputs": [
    {
     "name": "stdout",
     "output_type": "stream",
     "text": [
      "Hypothesis Test for Provinces: Fail to Reject the Null Hypothesis: No significant difference. (p-value: nan)\n"
     ]
    },
    {
     "name": "stderr",
     "output_type": "stream",
     "text": [
      "/home/kali/Desktop/vs/car_insurance_planning/notebooks/../scripts/ab_testing.py:44: SmallSampleWarning: One or more sample arguments is too small; all returned values will be NaN. See documentation for sample size requirements.\n",
      "  t_stat, p = stats.ttest_ind(group_A[numerical_column], group_B[numerical_column], nan_policy='omit')\n"
     ]
    }
   ],
   "source": [
    "result, p_value = ab_testing_pipeline(data, 'Province', 'Province_A', 'Province_B', 'TotalClaims', test_type='t_test')\n",
    "print(f\"Hypothesis Test for Provinces: {result} (p-value: {p_value})\")"
   ]
  },
  {
   "cell_type": "markdown",
   "metadata": {},
   "source": [
    " No risk differences between zip codes"
   ]
  },
  {
   "cell_type": "code",
   "execution_count": 5,
   "metadata": {},
   "outputs": [
    {
     "name": "stdout",
     "output_type": "stream",
     "text": [
      "Hypothesis Test for Zip Codes: Fail to Reject the Null Hypothesis: No significant difference. (p-value: nan)\n"
     ]
    }
   ],
   "source": [
    "result, p_value = ab_testing_pipeline(data, 'PostalCode', '1234', '5678', 'TotalClaims', test_type='t_test')\n",
    "print(f\"Hypothesis Test for Zip Codes: {result} (p-value: {p_value})\")"
   ]
  },
  {
   "cell_type": "markdown",
   "metadata": {},
   "source": [
    "No significant margin (profit) difference between zip codes"
   ]
  },
  {
   "cell_type": "code",
   "execution_count": 6,
   "metadata": {},
   "outputs": [
    {
     "name": "stdout",
     "output_type": "stream",
     "text": [
      "Hypothesis Test for Profit Margin between Zip Codes: Fail to Reject the Null Hypothesis: No significant difference. (p-value: nan)\n"
     ]
    }
   ],
   "source": [
    "result, p_value = ab_testing_pipeline(data, 'PostalCode', '1234', '5678', 'ProfitMargin', test_type='t_test')\n",
    "print(f\"Hypothesis Test for Profit Margin between Zip Codes: {result} (p-value: {p_value})\")"
   ]
  },
  {
   "cell_type": "markdown",
   "metadata": {},
   "source": [
    "No significant risk difference between Women and Men"
   ]
  },
  {
   "cell_type": "code",
   "execution_count": 7,
   "metadata": {},
   "outputs": [
    {
     "name": "stdout",
     "output_type": "stream",
     "text": [
      "Hypothesis Test for Gender: Fail to Reject the Null Hypothesis: No significant difference. (p-value: 0.8041073961270343)\n"
     ]
    }
   ],
   "source": [
    "result, p_value = ab_testing_pipeline(data, 'Gender', 'Male', 'Female', 'TotalClaims', test_type='t_test')\n",
    "print(f\"Hypothesis Test for Gender: {result} (p-value: {p_value})\")"
   ]
  }
 ],
 "metadata": {
  "kernelspec": {
   "display_name": ".venv",
   "language": "python",
   "name": "python3"
  },
  "language_info": {
   "codemirror_mode": {
    "name": "ipython",
    "version": 3
   },
   "file_extension": ".py",
   "mimetype": "text/x-python",
   "name": "python",
   "nbconvert_exporter": "python",
   "pygments_lexer": "ipython3",
   "version": "3.11.9"
  }
 },
 "nbformat": 4,
 "nbformat_minor": 2
}
